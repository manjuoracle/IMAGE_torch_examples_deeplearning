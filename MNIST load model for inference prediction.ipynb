{
  "nbformat": 4,
  "nbformat_minor": 0,
  "metadata": {
    "colab": {
      "provenance": []
    },
    "kernelspec": {
      "name": "python3",
      "display_name": "Python 3"
    },
    "language_info": {
      "name": "python"
    }
  },
  "cells": [
    {
      "cell_type": "code",
      "execution_count": null,
      "metadata": {
        "id": "ybou2zqOYStA"
      },
      "outputs": [],
      "source": [
        "#MNIST load model for inference prediction\n",
        "import torch\n",
        "import torch.nn as nn\n",
        "import torchvision\n",
        "import torchvision.transforms as transforms\n",
        "import numpy as np\n",
        "\n",
        "mean = np.array([0.5])\n",
        "std = np.array([0.25])\n",
        "\n",
        "model_MNIST_torch = torch.load(\"/content/MNIST_torch\")\n",
        "model_MNIST_torch.eval()\n",
        "\n",
        "test1 = Image.open('/content/3.png')\n",
        "\n",
        "# load the image and convert into numpy array\n",
        "# asarray() class is used to convert PIL images into NumPy arrays\n",
        "from numpy import asarray\n",
        "numpydata = asarray(test1)\n",
        "\n",
        "from PIL import Image \n",
        "#rgb_im = test1.convert('RGB')\n",
        "rgb_im = test1.convert('L')\n",
        "print (numpydata.shape)\n",
        "t=transforms.Compose([\n",
        "        transforms.Resize(28),\n",
        "        transforms.CenterCrop(28),\n",
        "        transforms.ToTensor(),\n",
        "        transforms.Normalize(mean, std)\n",
        "    ])\n",
        "\n",
        "t1 = t(rgb_im)\n",
        "#from GBB to grey scale\n",
        "t1= t1.reshape(1, 28*28)\n",
        "\n",
        "print(t1.shape)\n",
        "\n",
        "output = model_MNIST_torch(t1)\n",
        "print(output)\n",
        "output= np.argmax(output.detach().numpy(), axis=-1)[0]\n",
        "print(output)"
      ]
    }
  ]
}