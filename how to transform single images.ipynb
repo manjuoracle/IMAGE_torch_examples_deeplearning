{
  "nbformat": 4,
  "nbformat_minor": 0,
  "metadata": {
    "colab": {
      "provenance": []
    },
    "kernelspec": {
      "name": "python3",
      "display_name": "Python 3"
    },
    "language_info": {
      "name": "python"
    }
  },
  "cells": [
    {
      "cell_type": "code",
      "execution_count": null,
      "metadata": {
        "id": "ybou2zqOYStA"
      },
      "outputs": [],
      "source": [
        "##how to transform single images\n",
        "\n",
        "from torchvision.transforms.transforms import ToTensor\n",
        "from PIL import Image\n",
        "test1 = Image.open('/content/3.png')\n",
        "print(np.shape(test1))\n",
        "\n",
        "#from higher color channels  to lower(gray) or RGB\n",
        "#rgb_im = test1.convert('RGB') #RGB\n",
        "#rgb_im = test1.convert('L') #grayscale\n",
        "\n",
        "t=transforms.Compose([\n",
        "        transforms.Resize(28),\n",
        "        transforms.CenterCrop(28),\n",
        "        transforms.ToTensor(),\n",
        "    ])\n",
        "t1= t(test1)\n",
        "print(np.shape(t1))\n",
        "\n",
        "#from higher color channels  to lower(gray) or RGB\n",
        "t1= t1.reshape(1, 28*28)\n",
        "\n",
        "\n",
        "#from higher color deminsion from 2D to 3D\n",
        "#t1= t1.reshape(10,1, 28*28) #1= denotes gray scale &10 denotes batch size"
      ]
    }
  ]
}