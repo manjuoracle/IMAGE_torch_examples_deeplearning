{
  "nbformat": 4,
  "nbformat_minor": 0,
  "metadata": {
    "colab": {
      "provenance": []
    },
    "kernelspec": {
      "name": "python3",
      "display_name": "Python 3"
    },
    "language_info": {
      "name": "python"
    }
  },
  "cells": [
    {
      "cell_type": "code",
      "execution_count": null,
      "metadata": {
        "id": "ybou2zqOYStA"
      },
      "outputs": [],
      "source": [
        "#pretrained model inference + label reading from txt file\n",
        "import torch\n",
        "import torch.nn as nn\n",
        "import torchvision\n",
        "import torchvision.transforms as transforms\n",
        "import numpy as np\n",
        "\n",
        "#load model\n",
        "model = torch.hub.load('pytorch/vision:v0.6.0', 'resnet18', pretrained=True)\n",
        "textfile = open('/content/labels.txt')\n",
        "labels=textfile.read().split('\\n')\n",
        "print(labels[:10])\n",
        "\n",
        "model.eval()\n",
        "\n",
        "#data load\n",
        "data1 = Image.open('/content/car1.jpg')\n",
        "\n",
        "# convert into numpy array asarray() class is used to convert PIL images into NumPy arrays\n",
        "from numpy import asarray\n",
        "numpydata = asarray(data1)\n",
        "print(np.shape(data1))\n",
        "rgb_im = data1.convert('RGBA')\n",
        "\n",
        "#concert into torch\n",
        "from torchvision.transforms.transforms import ToTensor\n",
        "from PIL import Image\n",
        "t=transforms.Compose([\n",
        "        transforms.Resize(224),\n",
        "        transforms.CenterCrop(224),  \n",
        "        transforms.ToTensor(),      #converts into torch\n",
        "    ])\n",
        "#t1= t(rgb_im)\n",
        "t1= t(data1)\n",
        "t1= t1.reshape(1,3,224,224)\n",
        "print(np.shape(t1))\n",
        "\n",
        "#from higher color channels  to lower(gray) or RGB\n",
        "#rgb_im = test1.convert('RGB') #RGB\n",
        "#rgb_im = test1.convert('L') #grayscale\n",
        "\n",
        "#load data into model\n",
        "output = model(t1)\n",
        "print(output)\n",
        "output= np.argmax(output.detach().numpy(), axis=-1)[0]\n",
        "#print(output)\n",
        "print(labels[output])"
      ]
    }
  ]
}